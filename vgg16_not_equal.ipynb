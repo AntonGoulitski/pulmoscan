{
 "cells": [
  {
   "cell_type": "code",
   "execution_count": 1,
   "metadata": {},
   "outputs": [
    {
     "name": "stdout",
     "output_type": "stream",
     "text": [
      "['ARXIV_V5_CHESTXRAY.pdf', 'BBox_List_2017.csv', 'Data_Entry_2017.csv', 'FAQ_CHESTXRAY.pdf', 'images_001', 'images_002', 'images_003', 'images_004', 'images_005', 'images_006', 'images_007', 'images_008', 'images_009', 'images_010', 'images_011', 'images_012', 'LOG_CHESTXRAY.pdf', 'README_CHESTXRAY.pdf', 'test_list.txt', 'train_val_list.txt']\n"
     ]
    }
   ],
   "source": [
    "import os\n",
    "os.chdir(r\"E:\\adani\")\n",
    "try:\n",
    "    inpath = \"archive/\" \n",
    "    print(os.listdir(inpath))\n",
    "except FileNotFoundError:\n",
    "    inpath = \"./\" \n",
    "    print(os.listdir(inpath))\n"
   ]
  },
  {
   "cell_type": "code",
   "execution_count": 2,
   "metadata": {},
   "outputs": [
    {
     "name": "stdout",
     "output_type": "stream",
     "text": [
      "(112120, 12)\n"
     ]
    },
    {
     "data": {
      "text/html": [
       "<div>\n",
       "<style scoped>\n",
       "    .dataframe tbody tr th:only-of-type {\n",
       "        vertical-align: middle;\n",
       "    }\n",
       "\n",
       "    .dataframe tbody tr th {\n",
       "        vertical-align: top;\n",
       "    }\n",
       "\n",
       "    .dataframe thead th {\n",
       "        text-align: right;\n",
       "    }\n",
       "</style>\n",
       "<table border=\"1\" class=\"dataframe\">\n",
       "  <thead>\n",
       "    <tr style=\"text-align: right;\">\n",
       "      <th></th>\n",
       "      <th>Image Index</th>\n",
       "      <th>Finding Labels</th>\n",
       "      <th>Follow-up #</th>\n",
       "      <th>Patient ID</th>\n",
       "      <th>Patient Age</th>\n",
       "      <th>Patient Gender</th>\n",
       "      <th>View Position</th>\n",
       "      <th>OriginalImage[Width</th>\n",
       "      <th>Height]</th>\n",
       "      <th>OriginalImagePixelSpacing[x</th>\n",
       "      <th>y]</th>\n",
       "      <th>Unnamed: 11</th>\n",
       "    </tr>\n",
       "  </thead>\n",
       "  <tbody>\n",
       "    <tr>\n",
       "      <th>0</th>\n",
       "      <td>00000001_000.png</td>\n",
       "      <td>Cardiomegaly</td>\n",
       "      <td>0</td>\n",
       "      <td>1</td>\n",
       "      <td>58</td>\n",
       "      <td>M</td>\n",
       "      <td>PA</td>\n",
       "      <td>2682</td>\n",
       "      <td>2749</td>\n",
       "      <td>0.143</td>\n",
       "      <td>0.143</td>\n",
       "      <td>NaN</td>\n",
       "    </tr>\n",
       "    <tr>\n",
       "      <th>1</th>\n",
       "      <td>00000001_001.png</td>\n",
       "      <td>Cardiomegaly|Emphysema</td>\n",
       "      <td>1</td>\n",
       "      <td>1</td>\n",
       "      <td>58</td>\n",
       "      <td>M</td>\n",
       "      <td>PA</td>\n",
       "      <td>2894</td>\n",
       "      <td>2729</td>\n",
       "      <td>0.143</td>\n",
       "      <td>0.143</td>\n",
       "      <td>NaN</td>\n",
       "    </tr>\n",
       "    <tr>\n",
       "      <th>2</th>\n",
       "      <td>00000001_002.png</td>\n",
       "      <td>Cardiomegaly|Effusion</td>\n",
       "      <td>2</td>\n",
       "      <td>1</td>\n",
       "      <td>58</td>\n",
       "      <td>M</td>\n",
       "      <td>PA</td>\n",
       "      <td>2500</td>\n",
       "      <td>2048</td>\n",
       "      <td>0.168</td>\n",
       "      <td>0.168</td>\n",
       "      <td>NaN</td>\n",
       "    </tr>\n",
       "    <tr>\n",
       "      <th>3</th>\n",
       "      <td>00000002_000.png</td>\n",
       "      <td>No Finding</td>\n",
       "      <td>0</td>\n",
       "      <td>2</td>\n",
       "      <td>81</td>\n",
       "      <td>M</td>\n",
       "      <td>PA</td>\n",
       "      <td>2500</td>\n",
       "      <td>2048</td>\n",
       "      <td>0.171</td>\n",
       "      <td>0.171</td>\n",
       "      <td>NaN</td>\n",
       "    </tr>\n",
       "    <tr>\n",
       "      <th>4</th>\n",
       "      <td>00000003_000.png</td>\n",
       "      <td>Hernia</td>\n",
       "      <td>0</td>\n",
       "      <td>3</td>\n",
       "      <td>81</td>\n",
       "      <td>F</td>\n",
       "      <td>PA</td>\n",
       "      <td>2582</td>\n",
       "      <td>2991</td>\n",
       "      <td>0.143</td>\n",
       "      <td>0.143</td>\n",
       "      <td>NaN</td>\n",
       "    </tr>\n",
       "  </tbody>\n",
       "</table>\n",
       "</div>"
      ],
      "text/plain": [
       "        Image Index          Finding Labels  Follow-up #  Patient ID  \\\n",
       "0  00000001_000.png            Cardiomegaly            0           1   \n",
       "1  00000001_001.png  Cardiomegaly|Emphysema            1           1   \n",
       "2  00000001_002.png   Cardiomegaly|Effusion            2           1   \n",
       "3  00000002_000.png              No Finding            0           2   \n",
       "4  00000003_000.png                  Hernia            0           3   \n",
       "\n",
       "   Patient Age Patient Gender View Position  OriginalImage[Width  Height]  \\\n",
       "0           58              M            PA                 2682     2749   \n",
       "1           58              M            PA                 2894     2729   \n",
       "2           58              M            PA                 2500     2048   \n",
       "3           81              M            PA                 2500     2048   \n",
       "4           81              F            PA                 2582     2991   \n",
       "\n",
       "   OriginalImagePixelSpacing[x     y]  Unnamed: 11  \n",
       "0                        0.143  0.143          NaN  \n",
       "1                        0.143  0.143          NaN  \n",
       "2                        0.168  0.168          NaN  \n",
       "3                        0.171  0.171          NaN  \n",
       "4                        0.143  0.143          NaN  "
      ]
     },
     "execution_count": 2,
     "metadata": {},
     "output_type": "execute_result"
    }
   ],
   "source": [
    "import pandas as pd\n",
    "data = pd.read_csv(inpath + 'Data_Entry_2017.csv')\n",
    "print(data.shape)\n",
    "\n",
    "data.head()\n"
   ]
  },
  {
   "cell_type": "code",
   "execution_count": 3,
   "metadata": {},
   "outputs": [
    {
     "data": {
      "text/plain": [
       "(112104, 12)"
      ]
     },
     "execution_count": 3,
     "metadata": {},
     "output_type": "execute_result"
    }
   ],
   "source": [
    "data = data[data['Patient Age']<100]\n",
    "\n",
    "data.shape\n"
   ]
  },
  {
   "cell_type": "code",
   "execution_count": 4,
   "metadata": {},
   "outputs": [
    {
     "data": {
      "text/plain": [
       "(112104, 2)"
      ]
     },
     "execution_count": 4,
     "metadata": {},
     "output_type": "execute_result"
    }
   ],
   "source": [
    "data = data[['Image Index', 'Finding Labels']]\n",
    "\n",
    "data.shape"
   ]
  },
  {
   "cell_type": "code",
   "execution_count": 5,
   "metadata": {},
   "outputs": [
    {
     "name": "stdout",
     "output_type": "stream",
     "text": [
      "Scans found: 112120 , Total Headers 112104\n"
     ]
    },
    {
     "data": {
      "text/html": [
       "<div>\n",
       "<style scoped>\n",
       "    .dataframe tbody tr th:only-of-type {\n",
       "        vertical-align: middle;\n",
       "    }\n",
       "\n",
       "    .dataframe tbody tr th {\n",
       "        vertical-align: top;\n",
       "    }\n",
       "\n",
       "    .dataframe thead th {\n",
       "        text-align: right;\n",
       "    }\n",
       "</style>\n",
       "<table border=\"1\" class=\"dataframe\">\n",
       "  <thead>\n",
       "    <tr style=\"text-align: right;\">\n",
       "      <th></th>\n",
       "      <th>Image Index</th>\n",
       "      <th>Finding Labels</th>\n",
       "      <th>Path</th>\n",
       "    </tr>\n",
       "  </thead>\n",
       "  <tbody>\n",
       "    <tr>\n",
       "      <th>13531</th>\n",
       "      <td>00003520_002.png</td>\n",
       "      <td>No Finding</td>\n",
       "      <td>archive\\images_002\\images\\00003520_002.png</td>\n",
       "    </tr>\n",
       "    <tr>\n",
       "      <th>45241</th>\n",
       "      <td>00011598_037.png</td>\n",
       "      <td>Effusion|Mass</td>\n",
       "      <td>archive\\images_006\\images\\00011598_037.png</td>\n",
       "    </tr>\n",
       "    <tr>\n",
       "      <th>40313</th>\n",
       "      <td>00010503_000.png</td>\n",
       "      <td>Infiltration</td>\n",
       "      <td>archive\\images_005\\images\\00010503_000.png</td>\n",
       "    </tr>\n",
       "    <tr>\n",
       "      <th>81272</th>\n",
       "      <td>00019962_006.png</td>\n",
       "      <td>No Finding</td>\n",
       "      <td>archive\\images_009\\images\\00019962_006.png</td>\n",
       "    </tr>\n",
       "    <tr>\n",
       "      <th>85415</th>\n",
       "      <td>00021047_013.png</td>\n",
       "      <td>No Finding</td>\n",
       "      <td>archive\\images_010\\images\\00021047_013.png</td>\n",
       "    </tr>\n",
       "  </tbody>\n",
       "</table>\n",
       "</div>"
      ],
      "text/plain": [
       "            Image Index Finding Labels  \\\n",
       "13531  00003520_002.png     No Finding   \n",
       "45241  00011598_037.png  Effusion|Mass   \n",
       "40313  00010503_000.png   Infiltration   \n",
       "81272  00019962_006.png     No Finding   \n",
       "85415  00021047_013.png     No Finding   \n",
       "\n",
       "                                             Path  \n",
       "13531  archive\\images_002\\images\\00003520_002.png  \n",
       "45241  archive\\images_006\\images\\00011598_037.png  \n",
       "40313  archive\\images_005\\images\\00010503_000.png  \n",
       "81272  archive\\images_009\\images\\00019962_006.png  \n",
       "85415  archive\\images_010\\images\\00021047_013.png  "
      ]
     },
     "execution_count": 5,
     "metadata": {},
     "output_type": "execute_result"
    }
   ],
   "source": [
    "from glob import glob\n",
    "all_image_paths = {os.path.basename(x): x for x in \n",
    "                   glob(os.path.join('archive', 'images*', '*', '*.png'))}\n",
    "print('Scans found:', len(all_image_paths), ', Total Headers', data.shape[0])\n",
    "\n",
    "\n",
    "data['Path'] = data['Image Index'].map(all_image_paths.get)\n",
    "\n",
    "data.sample(5, random_state=3)\n"
   ]
  },
  {
   "cell_type": "code",
   "execution_count": 6,
   "metadata": {},
   "outputs": [
    {
     "data": {
      "text/html": [
       "<div>\n",
       "<style scoped>\n",
       "    .dataframe tbody tr th:only-of-type {\n",
       "        vertical-align: middle;\n",
       "    }\n",
       "\n",
       "    .dataframe tbody tr th {\n",
       "        vertical-align: top;\n",
       "    }\n",
       "\n",
       "    .dataframe thead th {\n",
       "        text-align: right;\n",
       "    }\n",
       "</style>\n",
       "<table border=\"1\" class=\"dataframe\">\n",
       "  <thead>\n",
       "    <tr style=\"text-align: right;\">\n",
       "      <th></th>\n",
       "      <th>Image Index</th>\n",
       "      <th>Finding Labels</th>\n",
       "      <th>Path</th>\n",
       "      <th>Disease</th>\n",
       "    </tr>\n",
       "  </thead>\n",
       "  <tbody>\n",
       "    <tr>\n",
       "      <th>0</th>\n",
       "      <td>00000001_000.png</td>\n",
       "      <td>Cardiomegaly</td>\n",
       "      <td>archive\\images_001\\images\\00000001_000.png</td>\n",
       "      <td>1</td>\n",
       "    </tr>\n",
       "    <tr>\n",
       "      <th>1</th>\n",
       "      <td>00000001_001.png</td>\n",
       "      <td>Cardiomegaly|Emphysema</td>\n",
       "      <td>archive\\images_001\\images\\00000001_001.png</td>\n",
       "      <td>1</td>\n",
       "    </tr>\n",
       "    <tr>\n",
       "      <th>2</th>\n",
       "      <td>00000001_002.png</td>\n",
       "      <td>Cardiomegaly|Effusion</td>\n",
       "      <td>archive\\images_001\\images\\00000001_002.png</td>\n",
       "      <td>1</td>\n",
       "    </tr>\n",
       "    <tr>\n",
       "      <th>3</th>\n",
       "      <td>00000002_000.png</td>\n",
       "      <td>No Finding</td>\n",
       "      <td>archive\\images_001\\images\\00000002_000.png</td>\n",
       "      <td>0</td>\n",
       "    </tr>\n",
       "    <tr>\n",
       "      <th>4</th>\n",
       "      <td>00000003_000.png</td>\n",
       "      <td>Hernia</td>\n",
       "      <td>archive\\images_001\\images\\00000003_000.png</td>\n",
       "      <td>1</td>\n",
       "    </tr>\n",
       "  </tbody>\n",
       "</table>\n",
       "</div>"
      ],
      "text/plain": [
       "        Image Index          Finding Labels  \\\n",
       "0  00000001_000.png            Cardiomegaly   \n",
       "1  00000001_001.png  Cardiomegaly|Emphysema   \n",
       "2  00000001_002.png   Cardiomegaly|Effusion   \n",
       "3  00000002_000.png              No Finding   \n",
       "4  00000003_000.png                  Hernia   \n",
       "\n",
       "                                         Path  Disease  \n",
       "0  archive\\images_001\\images\\00000001_000.png        1  \n",
       "1  archive\\images_001\\images\\00000001_001.png        1  \n",
       "2  archive\\images_001\\images\\00000001_002.png        1  \n",
       "3  archive\\images_001\\images\\00000002_000.png        0  \n",
       "4  archive\\images_001\\images\\00000003_000.png        1  "
      ]
     },
     "execution_count": 6,
     "metadata": {},
     "output_type": "execute_result"
    }
   ],
   "source": [
    "data['Disease'] = data.apply(lambda row : 0 if (row['Finding Labels'] == 'No Finding') else 1, axis = 1)\n",
    "data.head()\n"
   ]
  },
  {
   "cell_type": "code",
   "execution_count": 7,
   "metadata": {},
   "outputs": [
    {
     "data": {
      "text/plain": [
       "0    60353\n",
       "1    51751\n",
       "Name: Disease, dtype: int64"
      ]
     },
     "execution_count": 7,
     "metadata": {},
     "output_type": "execute_result"
    }
   ],
   "source": [
    "label_counts = data['Disease'].value_counts()\n",
    "label_counts\n"
   ]
  },
  {
   "cell_type": "code",
   "execution_count": 8,
   "metadata": {},
   "outputs": [
    {
     "data": {
      "text/plain": [
       "[0, 1]"
      ]
     },
     "execution_count": 8,
     "metadata": {},
     "output_type": "execute_result"
    }
   ],
   "source": [
    "import numpy as np\n",
    "from itertools import chain\n",
    "all_labels = np.unique(data['Disease'])\n",
    "all_labels = [x for x in all_labels]\n",
    "all_labels"
   ]
  },
  {
   "cell_type": "code",
   "execution_count": 9,
   "metadata": {},
   "outputs": [
    {
     "name": "stdout",
     "output_type": "stream",
     "text": [
      "Train 54930 Validation 23542 Test: 33632\n"
     ]
    }
   ],
   "source": [
    "from sklearn.model_selection import train_test_split\n",
    "\n",
    "train_and_valid_df, test_df = train_test_split(data, \n",
    "                                   test_size = 0.30, \n",
    "                                   random_state = 2018)\n",
    "\n",
    "train_df, valid_df = train_test_split(train_and_valid_df,\n",
    "                                      test_size=0.30,\n",
    "                                      random_state=2018)\n",
    "\n",
    "print(f'Train {train_df.shape[0]} Validation {valid_df.shape[0]} Test: {test_df.shape[0]}')"
   ]
  },
  {
   "cell_type": "code",
   "execution_count": 10,
   "metadata": {},
   "outputs": [],
   "source": [
    "train_counts = train_df['Disease'].value_counts()\n",
    "valid_counts = valid_df['Disease'].value_counts()\n",
    "test_counts = test_df['Disease'].value_counts()\n"
   ]
  },
  {
   "cell_type": "code",
   "execution_count": 11,
   "metadata": {},
   "outputs": [
    {
     "data": {
      "text/plain": [
       "(2,)"
      ]
     },
     "execution_count": 11,
     "metadata": {},
     "output_type": "execute_result"
    }
   ],
   "source": [
    "train_counts.shape\n"
   ]
  },
  {
   "cell_type": "code",
   "execution_count": 12,
   "metadata": {},
   "outputs": [
    {
     "data": {
      "text/plain": [
       "(2,)"
      ]
     },
     "execution_count": 12,
     "metadata": {},
     "output_type": "execute_result"
    }
   ],
   "source": [
    "valid_counts.shape\n"
   ]
  },
  {
   "cell_type": "code",
   "execution_count": 13,
   "metadata": {},
   "outputs": [
    {
     "data": {
      "text/plain": [
       "(2,)"
      ]
     },
     "execution_count": 13,
     "metadata": {},
     "output_type": "execute_result"
    }
   ],
   "source": [
    "test_counts.shape\n"
   ]
  },
  {
   "cell_type": "code",
   "execution_count": 14,
   "metadata": {},
   "outputs": [
    {
     "name": "stdout",
     "output_type": "stream",
     "text": [
      "TRAIN: 29580\tVALID: 12763\tTEST: 18010 \tSUM: 60353 \tEXPECTED: 60353\n"
     ]
    }
   ],
   "source": [
    "for i in range(valid_counts.shape[0]-1):\n",
    "    if(i in [10, 50, 100, valid_counts.shape[0]-2]):\n",
    "        individual=f'TRAIN: {train_counts.to_numpy()[i]}\\tVALID: {valid_counts.to_numpy()[i]}\\tTEST: {test_counts.to_numpy()[i]}'\n",
    "        total_split = f'\\tSUM: {train_counts.to_numpy()[i] + valid_counts.to_numpy()[i] + test_counts.to_numpy()[i]}'\n",
    "        total = f'\\tEXPECTED: {label_counts.to_numpy()[i]}'\n",
    "        print(individual, total_split, total)\n"
   ]
  },
  {
   "cell_type": "code",
   "execution_count": 15,
   "metadata": {},
   "outputs": [],
   "source": [
    "from keras_preprocessing.image import ImageDataGenerator\n",
    "base_generator = ImageDataGenerator(rescale=1./255)"
   ]
  },
  {
   "cell_type": "code",
   "execution_count": 16,
   "metadata": {},
   "outputs": [],
   "source": [
    "IMG_SIZE = (224, 224)\n",
    "def flow_from_dataframe(image_generator, dataframe, batch_size):\n",
    "\n",
    "    df_gen = image_generator.flow_from_dataframe(dataframe,\n",
    "                                                 x_col='Path',\n",
    "                                                 y_col='Disease',\n",
    "                                                 target_size=IMG_SIZE,\n",
    "                                                 color_mode='rgb',\n",
    "                                                 class_mode='raw',\n",
    "                                                 shuffle=False,\n",
    "                                                 batch_size=batch_size)\n",
    "    return df_gen"
   ]
  },
  {
   "cell_type": "code",
   "execution_count": 17,
   "metadata": {},
   "outputs": [
    {
     "name": "stdout",
     "output_type": "stream",
     "text": [
      "Found 54930 validated image filenames.\n",
      "Found 23542 validated image filenames.\n",
      "Found 33632 validated image filenames.\n"
     ]
    }
   ],
   "source": [
    "train_gen = flow_from_dataframe(image_generator=base_generator, \n",
    "                                dataframe= train_df,\n",
    "                                batch_size = 32)\n",
    "\n",
    "valid_gen = flow_from_dataframe(image_generator=base_generator, \n",
    "                                dataframe=valid_df,\n",
    "                                batch_size = 32)\n",
    "\n",
    "test_gen = flow_from_dataframe(image_generator=base_generator, \n",
    "                               dataframe=test_df,\n",
    "                               batch_size = 32)"
   ]
  },
  {
   "cell_type": "code",
   "execution_count": 18,
   "metadata": {},
   "outputs": [
    {
     "name": "stdout",
     "output_type": "stream",
     "text": [
      "(224, 224, 3)\n",
      "0\n"
     ]
    }
   ],
   "source": [
    "train_x, train_y = next(train_gen)\n",
    "print(train_x[1].shape)\n",
    "print(train_y[1])\n"
   ]
  },
  {
   "cell_type": "code",
   "execution_count": 19,
   "metadata": {},
   "outputs": [
    {
     "name": "stderr",
     "output_type": "stream",
     "text": [
      "Using TensorFlow backend.\n",
      "D:\\Anaconda3\\envs\\df_env\\lib\\site-packages\\tensorflow\\python\\framework\\dtypes.py:516: FutureWarning: Passing (type, 1) or '1type' as a synonym of type is deprecated; in a future version of numpy, it will be understood as (type, (1,)) / '(1,)type'.\n",
      "  _np_qint8 = np.dtype([(\"qint8\", np.int8, 1)])\n",
      "D:\\Anaconda3\\envs\\df_env\\lib\\site-packages\\tensorflow\\python\\framework\\dtypes.py:517: FutureWarning: Passing (type, 1) or '1type' as a synonym of type is deprecated; in a future version of numpy, it will be understood as (type, (1,)) / '(1,)type'.\n",
      "  _np_quint8 = np.dtype([(\"quint8\", np.uint8, 1)])\n",
      "D:\\Anaconda3\\envs\\df_env\\lib\\site-packages\\tensorflow\\python\\framework\\dtypes.py:518: FutureWarning: Passing (type, 1) or '1type' as a synonym of type is deprecated; in a future version of numpy, it will be understood as (type, (1,)) / '(1,)type'.\n",
      "  _np_qint16 = np.dtype([(\"qint16\", np.int16, 1)])\n",
      "D:\\Anaconda3\\envs\\df_env\\lib\\site-packages\\tensorflow\\python\\framework\\dtypes.py:519: FutureWarning: Passing (type, 1) or '1type' as a synonym of type is deprecated; in a future version of numpy, it will be understood as (type, (1,)) / '(1,)type'.\n",
      "  _np_quint16 = np.dtype([(\"quint16\", np.uint16, 1)])\n",
      "D:\\Anaconda3\\envs\\df_env\\lib\\site-packages\\tensorflow\\python\\framework\\dtypes.py:520: FutureWarning: Passing (type, 1) or '1type' as a synonym of type is deprecated; in a future version of numpy, it will be understood as (type, (1,)) / '(1,)type'.\n",
      "  _np_qint32 = np.dtype([(\"qint32\", np.int32, 1)])\n",
      "D:\\Anaconda3\\envs\\df_env\\lib\\site-packages\\tensorflow\\python\\framework\\dtypes.py:525: FutureWarning: Passing (type, 1) or '1type' as a synonym of type is deprecated; in a future version of numpy, it will be understood as (type, (1,)) / '(1,)type'.\n",
      "  np_resource = np.dtype([(\"resource\", np.ubyte, 1)])\n",
      "D:\\Anaconda3\\envs\\df_env\\lib\\site-packages\\tensorboard\\compat\\tensorflow_stub\\dtypes.py:541: FutureWarning: Passing (type, 1) or '1type' as a synonym of type is deprecated; in a future version of numpy, it will be understood as (type, (1,)) / '(1,)type'.\n",
      "  _np_qint8 = np.dtype([(\"qint8\", np.int8, 1)])\n",
      "D:\\Anaconda3\\envs\\df_env\\lib\\site-packages\\tensorboard\\compat\\tensorflow_stub\\dtypes.py:542: FutureWarning: Passing (type, 1) or '1type' as a synonym of type is deprecated; in a future version of numpy, it will be understood as (type, (1,)) / '(1,)type'.\n",
      "  _np_quint8 = np.dtype([(\"quint8\", np.uint8, 1)])\n",
      "D:\\Anaconda3\\envs\\df_env\\lib\\site-packages\\tensorboard\\compat\\tensorflow_stub\\dtypes.py:543: FutureWarning: Passing (type, 1) or '1type' as a synonym of type is deprecated; in a future version of numpy, it will be understood as (type, (1,)) / '(1,)type'.\n",
      "  _np_qint16 = np.dtype([(\"qint16\", np.int16, 1)])\n",
      "D:\\Anaconda3\\envs\\df_env\\lib\\site-packages\\tensorboard\\compat\\tensorflow_stub\\dtypes.py:544: FutureWarning: Passing (type, 1) or '1type' as a synonym of type is deprecated; in a future version of numpy, it will be understood as (type, (1,)) / '(1,)type'.\n",
      "  _np_quint16 = np.dtype([(\"quint16\", np.uint16, 1)])\n",
      "D:\\Anaconda3\\envs\\df_env\\lib\\site-packages\\tensorboard\\compat\\tensorflow_stub\\dtypes.py:545: FutureWarning: Passing (type, 1) or '1type' as a synonym of type is deprecated; in a future version of numpy, it will be understood as (type, (1,)) / '(1,)type'.\n",
      "  _np_qint32 = np.dtype([(\"qint32\", np.int32, 1)])\n",
      "D:\\Anaconda3\\envs\\df_env\\lib\\site-packages\\tensorboard\\compat\\tensorflow_stub\\dtypes.py:550: FutureWarning: Passing (type, 1) or '1type' as a synonym of type is deprecated; in a future version of numpy, it will be understood as (type, (1,)) / '(1,)type'.\n",
      "  np_resource = np.dtype([(\"resource\", np.ubyte, 1)])\n"
     ]
    },
    {
     "name": "stdout",
     "output_type": "stream",
     "text": [
      "WARNING:tensorflow:From D:\\Anaconda3\\envs\\df_env\\lib\\site-packages\\keras\\backend\\tensorflow_backend.py:4070: The name tf.nn.max_pool is deprecated. Please use tf.nn.max_pool2d instead.\n",
      "\n",
      "(7, 7, 512)\n"
     ]
    }
   ],
   "source": [
    "from keras.layers import Input\n",
    "from keras.applications.vgg16  import VGG16\n",
    "from keras.layers.core import Dense, Dropout, Flatten\n",
    "from keras.models import Model\n",
    "\n",
    "input_shape=(224, 224, 3)\n",
    "img_input = Input(shape=input_shape)\n",
    "\n",
    "base_model = VGG16(weights='imagenet', include_top=False, input_tensor=img_input, input_shape=input_shape)\n",
    "x = base_model.output\n",
    "print(base_model.output_shape[1:])\n",
    "x = Flatten(input_shape=base_model.output_shape[1:])(x)\n",
    "x = Dense(256, activation='relu')(x)\n",
    "x = Dropout(0.5)(x)\n",
    "predictions = Dense(len(all_labels)-1, activation=\"sigmoid\", name=\"predictions\")(x)\n",
    "model = Model(inputs=img_input, outputs=predictions)"
   ]
  },
  {
   "cell_type": "code",
   "execution_count": 20,
   "metadata": {},
   "outputs": [],
   "source": [
    "from contextlib import redirect_stdout\n",
    "\n",
    "with open('model_summary.txt', 'w') as f:\n",
    "    with redirect_stdout(f):\n",
    "        model.summary()\n"
   ]
  },
  {
   "cell_type": "code",
   "execution_count": 21,
   "metadata": {},
   "outputs": [
    {
     "name": "stdout",
     "output_type": "stream",
     "text": [
      "WARNING:tensorflow:From D:\\Anaconda3\\envs\\df_env\\lib\\site-packages\\tensorflow\\python\\ops\\nn_impl.py:180: add_dispatch_support.<locals>.wrapper (from tensorflow.python.ops.array_ops) is deprecated and will be removed in a future version.\n",
      "Instructions for updating:\n",
      "Use tf.where in 2.0, which has the same broadcast rule as np.where\n"
     ]
    }
   ],
   "source": [
    "from keras.optimizers import SGD\n",
    "    \n",
    "model.compile(loss='binary_crossentropy',\n",
    "              optimizer=SGD(lr=1e-4, momentum=0.9),\n",
    "              metrics=['accuracy', 'binary_accuracy'])\n"
   ]
  },
  {
   "cell_type": "code",
   "execution_count": 22,
   "metadata": {},
   "outputs": [
    {
     "data": {
      "text/plain": [
       "'vgg16_rgb_binary_xray_class_weights.best.hdf5'"
      ]
     },
     "execution_count": 22,
     "metadata": {},
     "output_type": "execute_result"
    }
   ],
   "source": [
    "from keras.callbacks import ModelCheckpoint, LearningRateScheduler, EarlyStopping, ReduceLROnPlateau\n",
    "import keras.callbacks as kcall\n",
    "weight_path=\"{}_weights.best.hdf5\".format('vgg16_rgb_binary_xray_class')\n",
    "weight_path"
   ]
  },
  {
   "cell_type": "code",
   "execution_count": 23,
   "metadata": {},
   "outputs": [],
   "source": [
    "class LossHistory(kcall.Callback):\n",
    "    def on_train_begin(self, logs={}):\n",
    "        #Batch\n",
    "        self.batch_losses = []\n",
    "        self.batch_acc = []\n",
    "        #Epochs\n",
    "        self.epochs_losses = []\n",
    "        self.epochs_acc = []\n",
    "        self.epochs_val_losses = []\n",
    "        self.epochs_val_acc = []\n",
    "        \n",
    "    def on_batch_end(self, batch, logs={}):\n",
    "        self.batch_losses.append(logs.get('loss'))\n",
    "        self.batch_acc.append(logs.get('acc'))\n",
    "        \n",
    "    def on_epoch_end(self, epoch, logs={}):\n",
    "        self.epochs_losses.append(logs.get('loss'))\n",
    "        self.epochs_acc.append(logs.get('acc'))\n",
    "        self.epochs_val_losses.append(logs.get('val_loss'))\n",
    "        self.epochs_val_acc.append(logs.get('val_acc'))"
   ]
  },
  {
   "cell_type": "code",
   "execution_count": 24,
   "metadata": {},
   "outputs": [
    {
     "data": {
      "text/plain": [
       "[<keras.callbacks.callbacks.ModelCheckpoint at 0x1dfddb2cd08>,\n",
       " <keras.callbacks.callbacks.EarlyStopping at 0x1dfddb2ce88>,\n",
       " <__main__.LossHistory at 0x1dfddb2ca48>]"
      ]
     },
     "execution_count": 24,
     "metadata": {},
     "output_type": "execute_result"
    }
   ],
   "source": [
    "history = LossHistory()\n",
    "\n",
    "checkpoint = ModelCheckpoint(weight_path, monitor='val_loss', verbose=1, \n",
    "                             save_best_only=True, mode='min', save_weights_only = True)\n",
    "\n",
    "early = EarlyStopping(monitor=\"val_loss\", \n",
    "                      mode=\"min\", \n",
    "                      patience=3)\n",
    "\n",
    "callbacks_list = [checkpoint, early, history]\n",
    "callbacks_list"
   ]
  },
  {
   "cell_type": "code",
   "execution_count": 25,
   "metadata": {},
   "outputs": [
    {
     "name": "stdout",
     "output_type": "stream",
     "text": [
      "WARNING:tensorflow:From D:\\Anaconda3\\envs\\df_env\\lib\\site-packages\\keras\\backend\\tensorflow_backend.py:422: The name tf.global_variables is deprecated. Please use tf.compat.v1.global_variables instead.\n",
      "\n",
      "Epoch 1/20\n",
      "1716/1716 [==============================] - 1386s 808ms/step - loss: 0.6323 - accuracy: 0.6521 - binary_accuracy: 0.6521 - val_loss: 0.6496 - val_accuracy: 0.6849 - val_binary_accuracy: 0.6849\n",
      "\n",
      "Epoch 00001: val_loss improved from inf to 0.64964, saving model to vgg16_rgb_binary_xray_class_weights.best.hdf5\n",
      "Epoch 2/20\n",
      "1716/1716 [==============================] - 1392s 811ms/step - loss: 0.6052 - accuracy: 0.6844 - binary_accuracy: 0.6844 - val_loss: 0.6705 - val_accuracy: 0.6883 - val_binary_accuracy: 0.6883\n",
      "\n",
      "Epoch 00002: val_loss did not improve from 0.64964\n",
      "Epoch 3/20\n",
      "1716/1716 [==============================] - 1391s 810ms/step - loss: 0.5975 - accuracy: 0.6918 - binary_accuracy: 0.6918 - val_loss: 0.5187 - val_accuracy: 0.6905 - val_binary_accuracy: 0.6905\n",
      "\n",
      "Epoch 00003: val_loss improved from 0.64964 to 0.51871, saving model to vgg16_rgb_binary_xray_class_weights.best.hdf5\n",
      "Epoch 4/20\n",
      "1716/1716 [==============================] - 1383s 806ms/step - loss: 0.5922 - accuracy: 0.6959 - binary_accuracy: 0.6959 - val_loss: 0.5988 - val_accuracy: 0.6936 - val_binary_accuracy: 0.6936\n",
      "\n",
      "Epoch 00004: val_loss did not improve from 0.51871\n",
      "Epoch 5/20\n",
      "1716/1716 [==============================] - 1380s 804ms/step - loss: 0.5872 - accuracy: 0.7001 - binary_accuracy: 0.7001 - val_loss: 0.4740 - val_accuracy: 0.6929 - val_binary_accuracy: 0.6929\n",
      "\n",
      "Epoch 00005: val_loss improved from 0.51871 to 0.47397, saving model to vgg16_rgb_binary_xray_class_weights.best.hdf5\n",
      "Epoch 6/20\n",
      "1716/1716 [==============================] - 1370s 798ms/step - loss: 0.5831 - accuracy: 0.7042 - binary_accuracy: 0.7042 - val_loss: 0.5284 - val_accuracy: 0.6969 - val_binary_accuracy: 0.6969\n",
      "\n",
      "Epoch 00006: val_loss did not improve from 0.47397\n",
      "Epoch 7/20\n",
      "1716/1716 [==============================] - 1370s 799ms/step - loss: 0.5790 - accuracy: 0.7062 - binary_accuracy: 0.7062 - val_loss: 0.5516 - val_accuracy: 0.6985 - val_binary_accuracy: 0.6985\n",
      "\n",
      "Epoch 00007: val_loss did not improve from 0.47397\n",
      "Epoch 8/20\n",
      "1716/1716 [==============================] - 1367s 796ms/step - loss: 0.5756 - accuracy: 0.7097 - binary_accuracy: 0.7097 - val_loss: 0.4407 - val_accuracy: 0.7015 - val_binary_accuracy: 0.7015\n",
      "\n",
      "Epoch 00008: val_loss improved from 0.47397 to 0.44069, saving model to vgg16_rgb_binary_xray_class_weights.best.hdf5\n",
      "Epoch 9/20\n",
      "1716/1716 [==============================] - 1365s 795ms/step - loss: 0.5720 - accuracy: 0.7098 - binary_accuracy: 0.7098 - val_loss: 0.5263 - val_accuracy: 0.7012 - val_binary_accuracy: 0.7012\n",
      "\n",
      "Epoch 00009: val_loss did not improve from 0.44069\n",
      "Epoch 10/20\n",
      "1716/1716 [==============================] - 1369s 798ms/step - loss: 0.5678 - accuracy: 0.7137 - binary_accuracy: 0.7137 - val_loss: 0.6743 - val_accuracy: 0.7036 - val_binary_accuracy: 0.7036\n",
      "\n",
      "Epoch 00010: val_loss did not improve from 0.44069\n",
      "Epoch 11/20\n",
      "1716/1716 [==============================] - 1405s 819ms/step - loss: 0.5630 - accuracy: 0.7169 - binary_accuracy: 0.7169 - val_loss: 0.5562 - val_accuracy: 0.7048 - val_binary_accuracy: 0.7048\n",
      "\n",
      "Epoch 00011: val_loss did not improve from 0.44069\n"
     ]
    }
   ],
   "source": [
    "epochs=20\n",
    "history = model.fit_generator(\n",
    "                    generator=train_gen,\n",
    "                    steps_per_epoch=train_gen.n//train_gen.batch_size,\n",
    "                    validation_data = valid_gen,\n",
    "                    validation_steps=valid_gen.n//valid_gen.batch_size,\n",
    "                    epochs = epochs,\n",
    "                    callbacks = callbacks_list,\n",
    "                    shuffle=False)"
   ]
  },
  {
   "cell_type": "code",
   "execution_count": 26,
   "metadata": {},
   "outputs": [
    {
     "data": {
      "text/plain": [
       "dict_keys(['val_loss', 'val_accuracy', 'val_binary_accuracy', 'loss', 'accuracy', 'binary_accuracy'])"
      ]
     },
     "execution_count": 26,
     "metadata": {},
     "output_type": "execute_result"
    }
   ],
   "source": [
    "history.history.keys()"
   ]
  },
  {
   "cell_type": "code",
   "execution_count": 27,
   "metadata": {},
   "outputs": [
    {
     "data": {
      "image/png": "[encoded data removed]",
      "text/plain": [
       "<Figure size 576x576 with 2 Axes>"
      ]
     },
     "metadata": {
      "needs_background": "light"
     },
     "output_type": "display_data"
    }
   ],
   "source": [
    "import matplotlib.pyplot as plt\n",
    "\n",
    "acc = history.history['accuracy']\n",
    "val_acc = history.history['val_accuracy']\n",
    "\n",
    "loss = history.history['loss']\n",
    "val_loss = history.history['val_loss']\n",
    "\n",
    "plt.figure(figsize=(8, 8))\n",
    "plt.subplot(2, 1, 1)\n",
    "plt.plot(acc, label='Training Accuracy')\n",
    "plt.plot(val_acc, label='Validation Accuracy')\n",
    "plt.legend(loc='lower left')\n",
    "plt.ylabel('Accuracy')\n",
    "plt.ylim([min(plt.ylim()),1])\n",
    "plt.title('Training and Validation Accuracy')\n",
    "\n",
    "plt.subplot(2, 1, 2)\n",
    "plt.plot(loss, label='Training Loss')\n",
    "plt.plot(val_loss, label='Validation Loss')\n",
    "plt.legend(loc='lower left')\n",
    "plt.ylabel('Cross Entropy')\n",
    "plt.ylim([0,max(plt.ylim())])\n",
    "plt.title('Training and Validation Loss')\n",
    "plt.show()\n"
   ]
  },
  {
   "cell_type": "code",
   "execution_count": 28,
   "metadata": {},
   "outputs": [
    {
     "name": "stdout",
     "output_type": "stream",
     "text": [
      "1051.0\n"
     ]
    },
    {
     "data": {
      "text/plain": [
       "True"
      ]
     },
     "execution_count": 28,
     "metadata": {},
     "output_type": "execute_result"
    }
   ],
   "source": [
    "test_shape = test_gen.n\n",
    "batch = 32\n",
    "result = test_shape/batch\n",
    "print(result)\n",
    "result*batch==test_gen.n"
   ]
  },
  {
   "cell_type": "code",
   "execution_count": 29,
   "metadata": {},
   "outputs": [
    {
     "name": "stdout",
     "output_type": "stream",
     "text": [
      "1051/1051 [==============================] - 2181s 2s/step\n"
     ]
    }
   ],
   "source": [
    "model.load_weights(weight_path)\n",
    "model.compile(loss='binary_crossentropy',\n",
    "              optimizer=SGD(lr=1e-4, momentum=0.9),\n",
    "              metrics=['accuracy', 'binary_accuracy'])\n",
    "\n",
    "pred_y = model.predict_generator(test_gen, verbose = True)"
   ]
  },
  {
   "cell_type": "code",
   "execution_count": 30,
   "metadata": {},
   "outputs": [
    {
     "name": "stdout",
     "output_type": "stream",
     "text": [
      "(33632, 1) (33632,)\n"
     ]
    }
   ],
   "source": [
    "print(pred_y.shape, test_gen.labels.shape)"
   ]
  },
  {
   "cell_type": "code",
   "execution_count": 40,
   "metadata": {},
   "outputs": [
    {
     "name": "stdout",
     "output_type": "stream",
     "text": [
      "Confusion matrix:\n",
      "[[13155  4855]\n",
      " [ 5277 10345]]\n",
      "(0) 0\n",
      "(1) 1\n"
     ]
    },
    {
     "data": {
      "image/png": "[encoded data removed]",
      "text/plain": [
       "<Figure size 720x504 with 2 Axes>"
      ]
     },
     "metadata": {
      "needs_background": "light"
     },
     "output_type": "display_data"
    }
   ],
   "source": [
    "import matplotlib.pyplot as plt\n",
    "import seaborn as sns\n",
    "test_gen.reset()\n",
    "\n",
    "cls_pred = np.rint(pred_y)\n",
    "cls_test = np.array(test_gen.labels)\n",
    "\n",
    "from sklearn.metrics import confusion_matrix\n",
    "\n",
    "def print_confusion_matrix(cls_pred,):\n",
    "\n",
    "    cm = confusion_matrix(y_true=cls_test,  \n",
    "                          y_pred=cls_pred)  \n",
    "\n",
    "    print(\"Confusion matrix:\")\n",
    "    \n",
    "    print(cm)\n",
    "    \n",
    "    for i, class_name in enumerate(all_labels):\n",
    "        print(\"({0}) {1}\".format(i, class_name))\n",
    "        \n",
    "    df_cm = pd.DataFrame(cm, index = ['True_'+str(i) for i in all_labels],\n",
    "                  columns = ['Pred_'+str(i) for i in all_labels])\n",
    "    plt.figure(figsize = (10,7))\n",
    "    sns.heatmap(df_cm, annot=True,fmt=\"d\",cmap=\"BuPu\",annot_kws={\"size\": 10})# font size\n",
    "    sns.set(font_scale=1)\n",
    "    plt.show()\n",
    "    \n",
    "print_confusion_matrix(cls_pred)"
   ]
  },
  {
   "cell_type": "code",
   "execution_count": 41,
   "metadata": {},
   "outputs": [],
   "source": [
    "import nbconvert"
   ]
  },
  {
   "cell_type": "code",
   "execution_count": null,
   "metadata": {},
   "outputs": [],
   "source": []
  }
 ],
 "metadata": {
  "kernelspec": {
   "display_name": "Python 3",
   "language": "python",
   "name": "python3"
  },
  "language_info": {
   "codemirror_mode": {
    "name": "ipython",
    "version": 3
   },
   "file_extension": ".py",
   "mimetype": "text/x-python",
   "name": "python",
   "nbconvert_exporter": "python",
   "pygments_lexer": "ipython3",
   "version": "3.7.9"
  }
 },
 "nbformat": 4,
 "nbformat_minor": 4
}
